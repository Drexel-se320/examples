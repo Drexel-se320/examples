{
 "cells": [
  {
   "cell_type": "code",
   "execution_count": null,
   "metadata": {},
   "outputs": [],
   "source": [
    "%maven com.google.guava:guava:29.0-jre\n",
    "%maven net.jqwik:jqwik:1.3.5\n",
    "%maven org.hamcrest:hamcrest:2.2\n",
    "%maven org.junit.jupiter:junit-jupiter-api:5.6.2\n",
    "%maven org.junit.jupiter:junit-jupiter-params:5.6.2\n",
    "%maven org.junit.jupiter:junit-jupiter-engine:5.6.2\n",
    "%maven org.junit.platform:junit-platform-launcher:1.6.2"
   ]
  },
  {
   "cell_type": "code",
   "execution_count": null,
   "metadata": {},
   "outputs": [],
   "source": [
    "import static org.junit.jupiter.api.Assertions.assertTrue;\n",
    "import org.junit.jupiter.params.ParameterizedTest;\n",
    "import org.junit.jupiter.params.provider.Arguments;\n",
    "import org.junit.jupiter.params.provider.MethodSource;\n",
    "import org.junit.jupiter.params.provider.ValueSource;\n",
    "import static org.junit.jupiter.api.Assertions.assertEquals;\n",
    "import static org.junit.jupiter.api.Assertions.assertThrows;\n",
    "import static org.junit.jupiter.api.Assertions.assertTrue;\n",
    "import org.junit.jupiter.api.Test;\n",
    "import java.util.stream.Stream;\n",
    "import net.jqwik.api.*;\n",
    "import net.jqwik.api.constraints.*;\n",
    "import static org.hamcrest.MatcherAssert.assertThat;\n",
    "import static org.hamcrest.Matchers.is;\n",
    "import static org.hamcrest.Matchers.anyOf;"
   ]
  },
  {
   "cell_type": "code",
   "execution_count": null,
   "metadata": {},
   "outputs": [],
   "source": [
    "public class Min {\n",
    "\n",
    "    public static int min(int a, int b) {\n",
    "        if (a < b)\n",
    "            return a;\n",
    "        else\n",
    "            return b;\n",
    "    }\n",
    "}"
   ]
  },
  {
   "cell_type": "code",
   "execution_count": null,
   "metadata": {},
   "outputs": [],
   "source": [
    "public class TestMin {\n",
    "\n",
    "    @Test\n",
    "    public void testmin1() {\n",
    "        assertEquals(0, Min.min(0,1));\n",
    "    }\n",
    "\n",
    "    @Test\n",
    "    public void testshouldfail() {\n",
    "        assertEquals(34, Min.min(0,1));\n",
    "    }\n",
    "\n",
    "    @Test\n",
    "    public void failAssertion() {\n",
    "        assert false;\n",
    "    }\n",
    "}\n"
   ]
  },
  {
   "cell_type": "code",
   "execution_count": null,
   "metadata": {},
   "outputs": [],
   "source": [
    "// Adapted from https://www.baeldung.com/junit-tests-run-programmatically-from-java\n",
    "// https://github.com/eugenp/tutorials/blob/master/testing-modules/junit-5/src/test/java/com/baeldung/runfromjava/RunJUnit5TestsFromJava.java\n",
    "\n",
    "import org.junit.platform.launcher.Launcher;\n",
    "import org.junit.platform.launcher.LauncherDiscoveryRequest;\n",
    "import org.junit.platform.launcher.TestPlan;\n",
    "import org.junit.platform.launcher.core.LauncherDiscoveryRequestBuilder;\n",
    "import org.junit.platform.launcher.core.LauncherFactory;\n",
    "import org.junit.platform.launcher.listeners.SummaryGeneratingListener;\n",
    "import org.junit.platform.launcher.listeners.TestExecutionSummary;\n",
    "\n",
    "import java.io.PrintWriter;\n",
    "\n",
    "import static org.junit.platform.engine.discovery.ClassNameFilter.includeClassNamePatterns;\n",
    "import static org.junit.platform.engine.discovery.DiscoverySelectors.selectClass;\n",
    "import static org.junit.platform.engine.discovery.DiscoverySelectors.selectPackage;\n",
    "\n",
    "public class RunJUnit5TestsFromJava {\n",
    "    SummaryGeneratingListener listener = new SummaryGeneratingListener();\n",
    "     \n",
    "    public void runOne(Class clz) {\n",
    "        LauncherDiscoveryRequest request = LauncherDiscoveryRequestBuilder.request()\n",
    "          .selectors(selectClass(clz))\n",
    "          .build();\n",
    "        Launcher launcher = LauncherFactory.create();\n",
    "        TestPlan testPlan = launcher.discover(request);\n",
    "        launcher.registerTestExecutionListeners(listener);\n",
    "        launcher.execute(request);\n",
    "    }\n",
    "    \n",
    "    public void run(Class clz) {\n",
    "        run(clz, false);\n",
    "    }\n",
    "\n",
    "    public void run(Class clz, boolean verbose) {\n",
    "        RunJUnit5TestsFromJava runner = new RunJUnit5TestsFromJava();\n",
    "        runner.runOne(clz);\n",
    " \n",
    "        TestExecutionSummary summary = runner.listener.getSummary();\n",
    "        summary.printTo(new PrintWriter(System.out));\n",
    "        for (var failure : summary.getFailures()) {\n",
    "            System.out.println(failure.getTestIdentifier().getDisplayName());\n",
    "            if (verbose) {\n",
    "                failure.getException().printStackTrace(System.out);\n",
    "            } else {\n",
    "                System.out.println(failure.getException().getMessage());\n",
    "            }\n",
    "        }\n",
    "    }\n",
    "}"
   ]
  },
  {
   "cell_type": "code",
   "execution_count": null,
   "metadata": {},
   "outputs": [],
   "source": [
    "RunJUnit5TestsFromJava runner = new RunJUnit5TestsFromJava();\n",
    "runner.run(TestMin.class);"
   ]
  },
  {
   "cell_type": "code",
   "execution_count": null,
   "metadata": {},
   "outputs": [],
   "source": [
    "public class MinMatchers {\n",
    "\n",
    "    @Test\n",
    "    public void matchStuff() {\n",
    "        assertThat(Min.min(0,4), is(0));\n",
    "\n",
    "        assertThat(Min.min(3,4), anyOf(is(9), is(4)));\n",
    "    }\n",
    "\n",
    "}"
   ]
  },
  {
   "cell_type": "code",
   "execution_count": null,
   "metadata": {},
   "outputs": [],
   "source": [
    "runner.run(MinMatchers.class);"
   ]
  },
  {
   "cell_type": "code",
   "execution_count": null,
   "metadata": {},
   "outputs": [],
   "source": [
    "public class Exceptions {\n",
    "\n",
    "    @Test\n",
    "    public void testExceptions() {\n",
    "    Exception exception = assertThrows(UnsupportedOperationException.class,\n",
    "            /* The bit between this and the next comment is a \n",
    "             * *lambda expression*: https://docs.oracle.com/javase/tutorial/java/javaOO/lambdaexpressions.html#syntax\n",
    "             * If you've taken PL, this is Java's lambda.\n",
    "             * If not, this is like special syntax for a function object with one method.\n",
    "             * Notice the form is:\n",
    "             *   _args_ -> { body } */\n",
    "            () -> { throw new UnsupportedOperationException(\"Bad jasdf;lkasdjlfk\"); }\n",
    "            /* end of lambda expression. The () at the beginning is the (empty)\n",
    "             * argument list of the lambda */\n",
    "            ); // <-- This is closing off the call to assertThrows\n",
    "    // Here you can use any methods on the Exception type to inspect whether the right exception was thrown.\n",
    "        assertEquals(\"Bad Operation\", exception.getMessage());   \n",
    "    }\n",
    "\n",
    "}\n"
   ]
  },
  {
   "cell_type": "code",
   "execution_count": null,
   "metadata": {},
   "outputs": [],
   "source": [
    "runner.run(Exceptions.class);"
   ]
  },
  {
   "cell_type": "code",
   "execution_count": null,
   "metadata": {},
   "outputs": [],
   "source": [
    "public class TestMinTheory {\n",
    "\n",
    "    @ParameterizedTest\n",
    "    @ValueSource(ints = {Integer.MIN_VALUE, -4, 0, 6, Integer.MAX_VALUE})\n",
    "    public void testMinTheories(int a, int b){\n",
    "        int c = Min.min(a,b);\n",
    "        assertTrue(c <= a, \"min less than first argument\");\n",
    "        assertTrue(c <= b, \"min less than second argument\");\n",
    "        assertTrue(c == a || c == b, \"min is one of the arguments\");\n",
    "    }\n",
    "\n",
    "\n",
    "    @ParameterizedTest\n",
    "    @MethodSource(\"provideSomeOddTests\")\n",
    "    void testOdd(int input, boolean expected) {\n",
    "        assertEquals(expected, input % 2 == 1);\n",
    "    }\n",
    "\n",
    "    private static Stream<Arguments> provideSomeOddTests() {\n",
    "        return Stream.of(\n",
    "          Arguments.of(2, false),\n",
    "          Arguments.of(4, false),\n",
    "          Arguments.of(3, true),\n",
    "          Arguments.of(5, true)\n",
    "        );\n",
    "    }\n",
    "\n",
    "}"
   ]
  },
  {
   "cell_type": "code",
   "execution_count": null,
   "metadata": {},
   "outputs": [],
   "source": [
    "runner.run(TestMinTheory.class);"
   ]
  },
  {
   "cell_type": "code",
   "execution_count": null,
   "metadata": {},
   "outputs": [],
   "source": [
    "public class PropertyTests {\n",
    "\n",
    "    @Property(tries = 250, shrinking = ShrinkingMode.BOUNDED)\n",
    "    public boolean checkMinRight(@ForAll int x, @ForAll int y) {\n",
    "        Assume.that(x > y);\n",
    "        return Min.min(x,y) == y;\n",
    "    }\n",
    "    @Property(tries = 250, shrinking = ShrinkingMode.BOUNDED)\n",
    "    public boolean checkMinLeft(@ForAll int x, @ForAll int y) {\n",
    "        Assume.that(x < y);\n",
    "        return Min.min(x,y) == y;\n",
    "    }\n",
    "}"
   ]
  },
  {
   "cell_type": "code",
   "execution_count": null,
   "metadata": {},
   "outputs": [],
   "source": [
    "runner.run(PropertyTests.class);"
   ]
  },
  {
   "cell_type": "code",
   "execution_count": null,
   "metadata": {},
   "outputs": [],
   "source": []
  }
 ],
 "metadata": {
  "kernelspec": {
   "display_name": "Java",
   "language": "java",
   "name": "java"
  },
  "language_info": {
   "codemirror_mode": "java",
   "file_extension": ".jshell",
   "mimetype": "text/x-java-source",
   "name": "Java",
   "pygments_lexer": "java",
   "version": "11.0.8+10-LTS"
  }
 },
 "nbformat": 4,
 "nbformat_minor": 4
}
